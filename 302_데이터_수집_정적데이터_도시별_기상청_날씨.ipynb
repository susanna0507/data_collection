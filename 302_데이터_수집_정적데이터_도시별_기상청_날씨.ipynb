{
  "nbformat": 4,
  "nbformat_minor": 0,
  "metadata": {
    "colab": {
      "provenance": [],
      "authorship_tag": "ABX9TyOthBJlZRfBmqHKONcrcr6f",
      "include_colab_link": true
    },
    "kernelspec": {
      "name": "python3",
      "display_name": "Python 3"
    },
    "language_info": {
      "name": "python"
    }
  },
  "cells": [
    {
      "cell_type": "markdown",
      "metadata": {
        "id": "view-in-github",
        "colab_type": "text"
      },
      "source": [
        "<a href=\"https://colab.research.google.com/github/susanna0507/data_collection/blob/master/302_%EB%8D%B0%EC%9D%B4%ED%84%B0_%EC%88%98%EC%A7%91_%EC%A0%95%EC%A0%81%EB%8D%B0%EC%9D%B4%ED%84%B0_%EB%8F%84%EC%8B%9C%EB%B3%84_%EA%B8%B0%EC%83%81%EC%B2%AD_%EB%82%A0%EC%94%A8.ipynb\" target=\"_parent\"><img src=\"https://colab.research.google.com/assets/colab-badge.svg\" alt=\"Open In Colab\"/></a>"
      ]
    },
    {
      "cell_type": "code",
      "source": [
        "from google.colab import drive\n",
        "drive.mount('/content/drive')"
      ],
      "metadata": {
        "colab": {
          "base_uri": "https://localhost:8080/"
        },
        "id": "NV0crBRi2swh",
        "outputId": "1d96ea8c-f878-4f42-c64f-3452df9731c4"
      },
      "execution_count": null,
      "outputs": [
        {
          "output_type": "stream",
          "name": "stdout",
          "text": [
            "Drive already mounted at /content/drive; to attempt to forcibly remount, call drive.mount(\"/content/drive\", force_remount=True).\n"
          ]
        }
      ]
    },
    {
      "cell_type": "code",
      "source": [
        "%cd '/content/drive/MyDrive/ai_chat_python'"
      ],
      "metadata": {
        "colab": {
          "base_uri": "https://localhost:8080/"
        },
        "id": "PYPY1PhZ27dx",
        "outputId": "c419160b-c1ad-4475-cb6a-bedf80674ac5"
      },
      "execution_count": null,
      "outputs": [
        {
          "output_type": "stream",
          "name": "stdout",
          "text": [
            "/content/drive/MyDrive/ai_chat_python\n"
          ]
        }
      ]
    },
    {
      "cell_type": "code",
      "execution_count": null,
      "metadata": {
        "id": "bW2NRwbixft9"
      },
      "outputs": [],
      "source": [
        "from bs4 import BeautifulSoup\n",
        "import requests\n"
      ]
    },
    {
      "cell_type": "code",
      "source": [
        "result = []\n",
        "\n",
        "url = 'https://www.weather.go.kr/w/obs-climate/land/city-obs.do'\n",
        "res = requests.get(url)\n",
        "print(res)   # <Response [200]>\n",
        "\n",
        "\n",
        "soup = BeautifulSoup(res.text, 'html.parser')\n",
        "#print(soup)\n",
        "print(type(soup))       #bs4.BeautifulSoup\n",
        "\n",
        "tbody_tag = soup.find('tbody')   #tbody_tag = soup.select_one('tbody)\n",
        "#print(tbody_tag)\n",
        "print(type(tbody_tag))       # bs4.element.Tag\n",
        "\n",
        "\n",
        "tr_rs_tag = tbody_tag.find_all('tr')\n",
        "#print(tr_rs_tag)\n",
        "print(type(tr_rs_tag))           #bs4.element.ResultSet\n",
        "print(len(tr_rs_tag))           # 97\n",
        "\n",
        "for tr_tag in tr_rs_tag:\n",
        "  td_rs_tag = tr_tag.find_all('td')\n",
        "  city = td_rs_tag[0].string        # 지점\n",
        "  cur_temp = td_rs_tag[5].string   # 현재온도\n",
        "  sen_temp = td_rs_tag[7].string   # 체감온도\n",
        "  result.append([city]+[cur_temp]+[sen_temp])\n",
        "\n",
        "rowdata = result.copy()\n",
        "print(rowdata)"
      ],
      "metadata": {
        "colab": {
          "base_uri": "https://localhost:8080/"
        },
        "id": "GCL7lR2TyGJ1",
        "outputId": "51d47772-8446-4fd3-e2ca-a974a1752573"
      },
      "execution_count": null,
      "outputs": [
        {
          "output_type": "stream",
          "name": "stdout",
          "text": [
            "<Response [200]>\n",
            "<class 'bs4.BeautifulSoup'>\n",
            "<class 'bs4.element.Tag'>\n",
            "<class 'bs4.element.ResultSet'>\n",
            "97\n",
            "[['강릉', '6.7', '3.9'], ['강진군', '9.3', '7.3'], ['강화', '1.9', '-2.5'], ['거제', '10.3', '10.3'], ['거창', '5.8', '3.2'], ['경주시', '9.1', '5.6'], ['고산', '11.2', '11.2'], ['고창', '6.9', '4.0'], ['고창군', '6.8', '4.7'], ['고흥', '11.1', '11.1'], ['광양시', '10.4', '10.4'], ['광주', '8.1', '8.1'], ['구미', '7.0', '5.3'], ['군산', '5.9', '3.1'], ['금산', '6.6', '5.0'], ['김해시', '11.3', '11.3'], ['남원', '6.6', '3.8'], ['남해', '10.2', '10.2'], ['대관령', '-1.8', '-9.8'], ['대구', '8.9', '6.2'], ['대전', '6.1', '4.0'], ['동두천', '2.2', '-1.5'], ['동해', '7.2', '4.3'], ['목포', '7.5', '4.3'], ['문경', '4.4', '0.6'], ['밀양', '10.4', '10.4'], ['백령도', '1.6', '-3.1'], ['보령', '4.0', '2.2'], ['보성군', '9.6', '6.8'], ['보은', '4.9', '2.2'], ['봉화', '4.0', '0.4'], ['부산', '12.1', '12.1'], ['부안', '7.1', '6.5'], ['부여', '6.1', '3.4'], ['북강릉', '6.4', '3.8'], ['북부산', '12.2', '12.2'], ['북창원', '10.3', '10.3'], ['북춘천', '3.8', '0.4'], ['산청', '7.8', '4.6'], ['상주', '6.2', '3.4'], ['서귀포', '12.6', '12.6'], ['서산', '3.5', '2.1'], ['서울', '3.4', '-0.7'], ['서청주', '4.4', '1.0'], ['성산', '11.4', '11.4'], ['세종', '6.0', '3.8'], ['속초', '5.3', '2.0'], ['수원', '3.0', '0.2'], ['순창군', '6.9', '4.2'], ['순천', '7.5', '3.9'], ['안동', '6.1', '2.7'], ['양산시', '11.5', '11.5'], ['양평', '3.9', '0.3'], ['여수', '10.3', '10.3'], ['영광군', '8.4', '7.5'], ['영덕', '7.5', '3.8'], ['영월', '4.2', '1.0'], ['영주', '3.7', '-1.5'], ['영천', '8.1', '5.4'], ['완도', '10.5', '10.5'], ['울릉도', '5.9', '2.7'], ['울산', '10.2', '10.2'], ['울진', '8.0', '5.3'], ['원주', '4.4', '1.0'], ['의령군', '9.9', '7.0'], ['의성', '7.3', '4.2'], ['이천', '5.1', '2.3'], ['인제', '3.1', '1.8'], ['인천', '2.1', '-1.7'], ['임실', '5.7', '3.3'], ['장수', '3.8', '0.2'], ['장흥', '9.3', '7.7'], ['전주', '7.0', '4.1'], ['정선군', '2.0', '-1.3'], ['정읍', '6.7', '5.2'], ['제주', '11.8', '11.8'], ['제천', '2.7', '-1.2'], ['진도군', '8.9', '7.1'], ['진주', '10.1', '10.1'], ['창원', '9.8', '8.8'], ['천안', '4.5', '2.3'], ['철원', '2.0', '-0.8'], ['청송군', '5.1', '0.6'], ['청주', '5.9', '5.9'], ['추풍령', '4.8', '0.3'], ['춘천', '4.8', '2.0'], ['충주', '4.0', '0.7'], ['태백', '-0.2', '-2.6'], ['통영', '10.5', '10.5'], ['파주', '2.7', '-0.5'], ['포항', '9.0', '6.3'], ['함양군', '6.8', '3.4'], ['합천', '9.0', '7.2'], ['해남', '9.4', '7.1'], ['홍성', '5.1', '3.7'], ['홍천', '3.8', '0.8'], ['흑산도', '9.2', '6.7']]\n"
          ]
        }
      ]
    },
    {
      "cell_type": "code",
      "source": [
        "for element in result:\n",
        "  print(element)\n",
        "  break"
      ],
      "metadata": {
        "colab": {
          "base_uri": "https://localhost:8080/"
        },
        "id": "txKIEuDNyTTh",
        "outputId": "91730908-d156-42e2-8c76-fe868d2471bc"
      },
      "execution_count": null,
      "outputs": [
        {
          "output_type": "stream",
          "name": "stdout",
          "text": [
            "['강릉', '6.7', '3.9']\n"
          ]
        }
      ]
    },
    {
      "cell_type": "code",
      "source": [
        "import datetime\n",
        "to_now = datetime.datetime.now()\n",
        "to_now = to_now.strftime('%Y-%m-%d %H:%M:%s')\n",
        "to_now"
      ],
      "metadata": {
        "colab": {
          "base_uri": "https://localhost:8080/",
          "height": 35
        },
        "id": "XDAh2juY1dmo",
        "outputId": "cdb003b3-e46d-497a-d782-f047abbbf105"
      },
      "execution_count": null,
      "outputs": [
        {
          "output_type": "execute_result",
          "data": {
            "text/plain": [
              "'2023-11-28 06:23:1701152594'"
            ],
            "application/vnd.google.colaboratory.intrinsic+json": {
              "type": "string"
            }
          },
          "metadata": {},
          "execution_count": 136
        }
      ]
    },
    {
      "cell_type": "code",
      "source": [
        "import csv\n",
        "import copy\n",
        "\n",
        "fields = ['City', 'CurTemp', 'SenTemp']\n",
        "\n",
        "with open('./source/{}-weather.csv'.format(to_now), 'w', encoding='cp949') as f:   # 한글 깨지면 encoding='cp949' 삽입\n",
        "  writer = csv.writer(f)\n",
        "  writer.writerow(fields)\n",
        "  writer.writerows(result)\n",
        "\n",
        "  #for row in result:\n",
        "    #writer.writerows(copy.deepcopy(row))\n",
        "\n",
        "#del result[:]\n"
      ],
      "metadata": {
        "id": "-wsXfqwa18V0"
      },
      "execution_count": null,
      "outputs": []
    },
    {
      "cell_type": "code",
      "source": [
        "len(result)"
      ],
      "metadata": {
        "colab": {
          "base_uri": "https://localhost:8080/"
        },
        "id": "4PjNba3Yk_vD",
        "outputId": "6e89818e-009a-49fa-cee0-0613d3447516"
      },
      "execution_count": null,
      "outputs": [
        {
          "output_type": "execute_result",
          "data": {
            "text/plain": [
              "97"
            ]
          },
          "metadata": {},
          "execution_count": 138
        }
      ]
    },
    {
      "cell_type": "code",
      "source": [
        "import csv\n",
        "\n",
        "with open('./source/{}-weather.csv'.format(to_now), 'r', encoding='cp949') as f:\n",
        "  reader = csv.reader(f)\n",
        "  for row in reader:\n",
        "    print(','.join(row))"
      ],
      "metadata": {
        "colab": {
          "base_uri": "https://localhost:8080/"
        },
        "id": "GjgFxTDJ3GWA",
        "outputId": "67278048-e2ce-4835-9d41-311c56de5161"
      },
      "execution_count": null,
      "outputs": [
        {
          "output_type": "stream",
          "name": "stdout",
          "text": [
            "City,CurTemp,SenTemp\n",
            "강릉,7.6,4.8\n",
            "강진구,9.4,7.2\n",
            "강릉,6.7,3.9\n",
            "강진군,9.3,7.3\n",
            "강화,1.9,-2.5\n",
            "거제,10.3,10.3\n",
            "거창,5.8,3.2\n",
            "경주시,9.1,5.6\n",
            "고산,11.2,11.2\n",
            "고창,6.9,4.0\n",
            "고창군,6.8,4.7\n",
            "고흥,11.1,11.1\n",
            "광양시,10.4,10.4\n",
            "광주,8.1,8.1\n",
            "구미,7.0,5.3\n",
            "군산,5.9,3.1\n",
            "금산,6.6,5.0\n",
            "김해시,11.3,11.3\n",
            "남원,6.6,3.8\n",
            "남해,10.2,10.2\n",
            "대관령,-1.8,-9.8\n",
            "대구,8.9,6.2\n",
            "대전,6.1,4.0\n",
            "동두천,2.2,-1.5\n",
            "동해,7.2,4.3\n",
            "목포,7.5,4.3\n",
            "문경,4.4,0.6\n",
            "밀양,10.4,10.4\n",
            "백령도,1.6,-3.1\n",
            "보령,4.0,2.2\n",
            "보성군,9.6,6.8\n",
            "보은,4.9,2.2\n",
            "봉화,4.0,0.4\n",
            "부산,12.1,12.1\n",
            "부안,7.1,6.5\n",
            "부여,6.1,3.4\n",
            "북강릉,6.4,3.8\n",
            "북부산,12.2,12.2\n",
            "북창원,10.3,10.3\n",
            "북춘천,3.8,0.4\n",
            "산청,7.8,4.6\n",
            "상주,6.2,3.4\n",
            "서귀포,12.6,12.6\n",
            "서산,3.5,2.1\n",
            "서울,3.4,-0.7\n",
            "서청주,4.4,1.0\n",
            "성산,11.4,11.4\n",
            "세종,6.0,3.8\n",
            "속초,5.3,2.0\n",
            "수원,3.0,0.2\n",
            "순창군,6.9,4.2\n",
            "순천,7.5,3.9\n",
            "안동,6.1,2.7\n",
            "양산시,11.5,11.5\n",
            "양평,3.9,0.3\n",
            "여수,10.3,10.3\n",
            "영광군,8.4,7.5\n",
            "영덕,7.5,3.8\n",
            "영월,4.2,1.0\n",
            "영주,3.7,-1.5\n",
            "영천,8.1,5.4\n",
            "완도,10.5,10.5\n",
            "울릉도,5.9,2.7\n",
            "울산,10.2,10.2\n",
            "울진,8.0,5.3\n",
            "원주,4.4,1.0\n",
            "의령군,9.9,7.0\n",
            "의성,7.3,4.2\n",
            "이천,5.1,2.3\n",
            "인제,3.1,1.8\n",
            "인천,2.1,-1.7\n",
            "임실,5.7,3.3\n",
            "장수,3.8,0.2\n",
            "장흥,9.3,7.7\n",
            "전주,7.0,4.1\n",
            "정선군,2.0,-1.3\n",
            "정읍,6.7,5.2\n",
            "제주,11.8,11.8\n",
            "제천,2.7,-1.2\n",
            "진도군,8.9,7.1\n",
            "진주,10.1,10.1\n",
            "창원,9.8,8.8\n",
            "천안,4.5,2.3\n",
            "철원,2.0,-0.8\n",
            "청송군,5.1,0.6\n",
            "청주,5.9,5.9\n",
            "추풍령,4.8,0.3\n",
            "춘천,4.8,2.0\n",
            "충주,4.0,0.7\n",
            "태백,-0.2,-2.6\n",
            "통영,10.5,10.5\n",
            "파주,2.7,-0.5\n",
            "포항,9.0,6.3\n",
            "함양군,6.8,3.4\n",
            "합천,9.0,7.2\n",
            "해남,9.4,7.1\n",
            "홍성,5.1,3.7\n",
            "홍천,3.8,0.8\n",
            "흑산도,9.2,6.7\n"
          ]
        }
      ]
    },
    {
      "cell_type": "markdown",
      "source": [
        "```\n",
        "# 파이썬에서는 재귀호출 횟수가 100회로 한정이 되어 있어 아래와 같이 한정을 늘리면 된다. 하지만  현재colab에서는 늘리면 시스템 다운이 된다.\n",
        "import sys\n",
        "sys.setrecursionlimit(10000)\n",
        "```"
      ],
      "metadata": {
        "id": "anIk7YhOHqDd"
      }
    },
    {
      "cell_type": "code",
      "source": [
        "# 아래와 같이 용량이 적을 때는 이상없이 colab에서 deepcopy가 이상없이 실행이 된다\n",
        "# 하지만 result[]와 같이 많은 용량이 저장되어 있으면 실행이 안된다\n",
        "import copy\n",
        "\n",
        "result = [['강릉', '7.6', '4.8'],['강진구','9.4','7.2']]\n",
        "aa = copy.deepcopy(result)\n",
        "print(aa)"
      ],
      "metadata": {
        "colab": {
          "base_uri": "https://localhost:8080/"
        },
        "id": "_a2jj8XlILlf",
        "outputId": "bd36fa5d-6f35-448a-e8ac-1df3fe3a972f"
      },
      "execution_count": null,
      "outputs": [
        {
          "output_type": "stream",
          "name": "stdout",
          "text": [
            "[['강릉', '7.6', '4.8'], ['강진구', '9.4', '7.2']]\n"
          ]
        }
      ]
    },
    {
      "cell_type": "code",
      "source": [
        "%%writefile ./source/weather.py\n",
        "\n",
        "from bs4 import BeautifulSoup\n",
        "import requests\n",
        "import csv\n",
        "import datetime\n",
        "\n",
        "result = []\n",
        "#rowdata = []\n",
        "\n",
        "def weather_process():\n",
        "\n",
        "  url = 'https://www.weather.go.kr/w/obs-climate/land/city-obs.do'\n",
        "  res = requests.get(url)\n",
        "\n",
        "  soup = BeautifulSoup(res.text, 'html.parser')\n",
        "  tbody_tag = soup.find('tbody')\n",
        "  tr_rs_tag = tbody_tag.find_all('tr')\n",
        "\n",
        "# 불러오기\n",
        "  for tr_tag in tr_rs_tag:\n",
        "    td_rs_tag = tr_tag.find_all('td')\n",
        "    city = td_rs_tag[0].string\n",
        "    cur_temp = td_rs_tag[5].string\n",
        "    sen_temp = td_rs_tag[7].string\n",
        "\n",
        "    result.append([city]+[cur_temp]+[sen_temp])\n",
        "\n",
        "  #global rowdata\n",
        "  #rowdata = result.copy()\n",
        "\n",
        "\n",
        "# 파일저장\n",
        "def weather_save(to_now):\n",
        "  fields = ['City', 'CurTemp', 'SenTemp']\n",
        "\n",
        "  with open('./source/{}-weather.csv'.format(to_now), 'w', encoding='cp949') as f:\n",
        "    writer = csv.writer(f)\n",
        "    writer.writerow(fields)\n",
        "    writer.writerows(result)\n",
        "    #writer.writerows(rowdata)\n",
        "\n",
        "  #del result[:]\n",
        "\n",
        "# 파일 읽기\n",
        "def weather_load(to_now):\n",
        "  with open('./source/{}-weather.csv'.format(to_now), 'r', encoding='cp949') as f:\n",
        "    reader = csv.reader(f)\n",
        "    for row in reader:\n",
        "      print(','.join(row))\n",
        "\n",
        "if __name__ == '__main__':\n",
        "\n",
        "  to_now = datetime.datetime.now()\n",
        "  to_now = to_now.strftime('%Y-%m-%d %H:%M:%s')\n",
        "\n",
        "  weather_process()\n",
        "  weather_save(to_now)\n",
        "  weather_load(to_now)\n",
        "\n"
      ],
      "metadata": {
        "colab": {
          "base_uri": "https://localhost:8080/"
        },
        "id": "HqtGi2In5OLA",
        "outputId": "66ab403c-a61d-4dc7-b058-4a567899915b"
      },
      "execution_count": null,
      "outputs": [
        {
          "output_type": "stream",
          "name": "stdout",
          "text": [
            "Overwriting ./source/weather.py\n"
          ]
        }
      ]
    },
    {
      "cell_type": "code",
      "source": [
        "weather_process()"
      ],
      "metadata": {
        "id": "9kpb1gc-GSTX"
      },
      "execution_count": null,
      "outputs": []
    },
    {
      "cell_type": "code",
      "source": [
        "weather_save('weather.csv')"
      ],
      "metadata": {
        "colab": {
          "base_uri": "https://localhost:8080/"
        },
        "id": "Wc7ql4wfGZ0t",
        "outputId": "ac921288-4d36-41a0-8602-115ad4b45df0"
      },
      "execution_count": null,
      "outputs": [
        {
          "output_type": "stream",
          "name": "stdout",
          "text": [
            "저장완료\n"
          ]
        }
      ]
    },
    {
      "cell_type": "code",
      "source": [
        "weather_load('weather.csv')"
      ],
      "metadata": {
        "colab": {
          "base_uri": "https://localhost:8080/"
        },
        "id": "qsu5wCRBGhKV",
        "outputId": "87b36c62-7b71-4733-d158-128d3fc49053"
      },
      "execution_count": null,
      "outputs": [
        {
          "output_type": "stream",
          "name": "stdout",
          "text": [
            "City,CurTemp,SenTemp\n",
            "강릉,7.6,4.7\n",
            "강진군,9.5,6.8\n",
            "강화,1.7,-1.9\n",
            "거제,11.2,11.2\n",
            "거창,6.3,3.9\n",
            "경주시,9.2,5.9\n",
            "고산,11.7,11.7\n",
            "고창,6.7,3.7\n",
            "고창군,7.7,6.4\n",
            "고흥,11.0,11.0\n",
            "광양시,10.3,10.3\n",
            "광주,8.6,7.8\n",
            "구미,8.1,6.6\n",
            "군산,6.6,3.5\n",
            "금산,6.0,4.3\n",
            "김해시,11.8,11.8\n",
            "남원,7.6,5.6\n",
            "남해,10.1,10.1\n",
            "대관령,-0.7,-7.8\n",
            "대구,8.7,6.4\n",
            "대전,6.9,4.5\n",
            "동두천,2.4,-2.1\n",
            "동해,8.1,5.9\n",
            "목포,8.4,4.8\n",
            "문경,5.2,1.4\n",
            "밀양,10.5,10.5\n",
            "백령도,1.5,-3.3\n",
            "보령,5.9,5.9\n",
            "보성군,10.4,10.4\n",
            "보은,5.2,2.1\n",
            "봉화,5.1,1.6\n",
            "부산,12.0,12.0\n",
            "부안,7.9,6.6\n",
            "부여,6.5,3.9\n",
            "북강릉,7.0,3.7\n",
            "북부산,11.9,11.9\n",
            "북창원,11.2,11.2\n",
            "북춘천,3.9,-0.8\n",
            "산청,7.8,4.3\n",
            "상주,6.2,3.3\n",
            "서귀포,14.2,14.2\n",
            "서산,3.8,0.4\n",
            "서울,3.4,-0.1\n",
            "서청주,5.3,1.8\n",
            "성산,12.2,12.2\n",
            "세종,6.4,4.0\n",
            "속초,5.8,1.3\n",
            "수원,2.8,-1.5\n",
            "순창군,6.1,2.9\n",
            "순천,7.8,4.9\n",
            "안동,6.0,2.3\n",
            "양산시,12.5,12.5\n",
            "양평,5.1,2.1\n",
            "여수,10.0,6.6\n",
            "영광군,7.4,5.4\n",
            "영덕,8.0,5.2\n",
            "영월,4.8,2.5\n",
            "영주,4.7,-0.2\n",
            "영천,8.3,5.8\n",
            "완도,10.6,10.6\n",
            "울릉도,7.1,2.6\n",
            "울산,10.3,10.3\n",
            "울진,9.4,7.7\n",
            "원주,4.6,0.6\n",
            "의령군,10.5,10.5\n",
            "의성,7.6,5.1\n",
            "이천,6.1,3.5\n",
            "인제,4.0,1.5\n",
            "인천,2.1,-2.0\n",
            "임실,6.7,4.9\n",
            "장수,4.7,1.3\n",
            "장흥,9.9,8.1\n",
            "전주,7.7,5.6\n",
            "정선군,2.7,-1.4\n",
            "정읍,7.0,4.6\n",
            "제주,11.6,11.6\n",
            "제천,3.9,0.6\n",
            "진도군,9.5,7.2\n",
            "진주,11.5,11.5\n",
            "창원,10.5,10.5\n",
            "천안,4.7,2.0\n",
            "철원,2.1,-0.8\n",
            "청송군,6.2,2.8\n",
            "청주,6.2,4.4\n",
            "추풍령,4.8,0.4\n",
            "춘천,4.9,1.6\n",
            "충주,5.3,1.7\n",
            "태백,0.7,-2.2\n",
            "통영,11.3,11.3\n",
            "파주,2.1,-0.7\n",
            "포항,8.8,6.1\n",
            "함양군,7.5,4.2\n",
            "합천,9.9,8.2\n",
            "해남,9.1,6.3\n",
            "홍성,5.3,3.5\n",
            "홍천,3.9,1.2\n",
            "흑산도,9.7,7.7\n"
          ]
        }
      ]
    },
    {
      "cell_type": "code",
      "source": [
        "!pwd"
      ],
      "metadata": {
        "colab": {
          "base_uri": "https://localhost:8080/"
        },
        "id": "aeTdaBUuEmBx",
        "outputId": "ceab42a3-ac29-4085-cb4e-eea6fc4bf16a"
      },
      "execution_count": null,
      "outputs": [
        {
          "output_type": "stream",
          "name": "stdout",
          "text": [
            "/content/drive/MyDrive/ai_chat_python\n"
          ]
        }
      ]
    },
    {
      "cell_type": "code",
      "source": [
        "!python ./source/weather.py"
      ],
      "metadata": {
        "colab": {
          "base_uri": "https://localhost:8080/"
        },
        "id": "BGMeN6t1E2pN",
        "outputId": "adf8566f-669f-4075-b730-6dc37a0a217e"
      },
      "execution_count": null,
      "outputs": [
        {
          "output_type": "stream",
          "name": "stdout",
          "text": [
            "City,CurTemp,SenTemp\n",
            "강릉,6.7,3.9\n",
            "강진군,9.3,7.3\n",
            "강화,1.9,-2.5\n",
            "거제,10.3,10.3\n",
            "거창,5.8,3.2\n",
            "경주시,9.1,5.6\n",
            "고산,11.2,11.2\n",
            "고창,6.9,4.0\n",
            "고창군,6.8,4.7\n",
            "고흥,11.1,11.1\n",
            "광양시,10.4,10.4\n",
            "광주,8.1,8.1\n",
            "구미,7.0,5.3\n",
            "군산,5.9,3.1\n",
            "금산,6.6,5.0\n",
            "김해시,11.3,11.3\n",
            "남원,6.6,3.8\n",
            "남해,10.2,10.2\n",
            "대관령,-1.8,-9.8\n",
            "대구,8.9,6.2\n",
            "대전,6.1,4.0\n",
            "동두천,2.2,-1.5\n",
            "동해,7.2,4.3\n",
            "목포,7.5,4.3\n",
            "문경,4.4,0.6\n",
            "밀양,10.4,10.4\n",
            "백령도,1.6,-3.1\n",
            "보령,4.0,2.2\n",
            "보성군,9.6,6.8\n",
            "보은,4.9,2.2\n",
            "봉화,4.0,0.4\n",
            "부산,12.1,12.1\n",
            "부안,7.1,6.5\n",
            "부여,6.1,3.4\n",
            "북강릉,6.4,3.8\n",
            "북부산,12.2,12.2\n",
            "북창원,10.3,10.3\n",
            "북춘천,3.8,0.4\n",
            "산청,7.8,4.6\n",
            "상주,6.2,3.4\n",
            "서귀포,12.6,12.6\n",
            "서산,3.5,2.1\n",
            "서울,3.4,-0.7\n",
            "서청주,4.4,1.0\n",
            "성산,11.4,11.4\n",
            "세종,6.0,3.8\n",
            "속초,5.3,2.0\n",
            "수원,3.0,0.2\n",
            "순창군,6.9,4.2\n",
            "순천,7.5,3.9\n",
            "안동,6.1,2.7\n",
            "양산시,11.5,11.5\n",
            "양평,3.9,0.3\n",
            "여수,10.3,10.3\n",
            "영광군,8.4,7.5\n",
            "영덕,7.5,3.8\n",
            "영월,4.2,1.0\n",
            "영주,3.7,-1.5\n",
            "영천,8.1,5.4\n",
            "완도,10.5,10.5\n",
            "울릉도,5.9,2.7\n",
            "울산,10.2,10.2\n",
            "울진,8.0,5.3\n",
            "원주,4.4,1.0\n",
            "의령군,9.9,7.0\n",
            "의성,7.3,4.2\n",
            "이천,5.1,2.3\n",
            "인제,3.1,1.8\n",
            "인천,2.1,-1.7\n",
            "임실,5.7,3.3\n",
            "장수,3.8,0.2\n",
            "장흥,9.3,7.7\n",
            "전주,7.0,4.1\n",
            "정선군,2.0,-1.3\n",
            "정읍,6.7,5.2\n",
            "제주,11.8,11.8\n",
            "제천,2.7,-1.2\n",
            "진도군,8.9,7.1\n",
            "진주,10.1,10.1\n",
            "창원,9.8,8.8\n",
            "천안,4.5,2.3\n",
            "철원,2.0,-0.8\n",
            "청송군,5.1,0.6\n",
            "청주,5.9,5.9\n",
            "추풍령,4.8,0.3\n",
            "춘천,4.8,2.0\n",
            "충주,4.0,0.7\n",
            "태백,-0.2,-2.6\n",
            "통영,10.5,10.5\n",
            "파주,2.7,-0.5\n",
            "포항,9.0,6.3\n",
            "함양군,6.8,3.4\n",
            "합천,9.0,7.2\n",
            "해남,9.4,7.1\n",
            "홍성,5.1,3.7\n",
            "홍천,3.8,0.8\n",
            "흑산도,9.2,6.7\n"
          ]
        }
      ]
    },
    {
      "cell_type": "code",
      "source": [],
      "metadata": {
        "id": "6MtLVlKCFabl"
      },
      "execution_count": null,
      "outputs": []
    }
  ]
}